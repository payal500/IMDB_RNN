{
 "cells": [
  {
   "cell_type": "code",
   "execution_count": 3,
   "id": "55eea90c",
   "metadata": {},
   "outputs": [
    {
     "ename": "ImportError",
     "evalue": "cannot import name 'One_hot' from 'tensorflow.keras.preprocessing.text' (d:\\deep learning\\RNN\\venv\\lib\\site-packages\\keras\\_tf_keras\\keras\\preprocessing\\text\\__init__.py)",
     "output_type": "error",
     "traceback": [
      "\u001b[1;31m---------------------------------------------------------------------------\u001b[0m",
      "\u001b[1;31mImportError\u001b[0m                               Traceback (most recent call last)",
      "Cell \u001b[1;32mIn[3], line 2\u001b[0m\n\u001b[0;32m      1\u001b[0m \u001b[38;5;28;01mimport\u001b[39;00m\u001b[38;5;250m \u001b[39m\u001b[38;5;21;01mpandas\u001b[39;00m\u001b[38;5;250m \u001b[39m\u001b[38;5;28;01mas\u001b[39;00m\u001b[38;5;250m \u001b[39m\u001b[38;5;21;01mpd\u001b[39;00m\n\u001b[1;32m----> 2\u001b[0m \u001b[38;5;28;01mfrom\u001b[39;00m\u001b[38;5;250m \u001b[39m\u001b[38;5;21;01mtensorflow\u001b[39;00m\u001b[38;5;21;01m.\u001b[39;00m\u001b[38;5;21;01mkeras\u001b[39;00m\u001b[38;5;21;01m.\u001b[39;00m\u001b[38;5;21;01mpreprocessing\u001b[39;00m\u001b[38;5;21;01m.\u001b[39;00m\u001b[38;5;21;01mtext\u001b[39;00m\u001b[38;5;250m \u001b[39m\u001b[38;5;28;01mimport\u001b[39;00m One_hot\n",
      "\u001b[1;31mImportError\u001b[0m: cannot import name 'One_hot' from 'tensorflow.keras.preprocessing.text' (d:\\deep learning\\RNN\\venv\\lib\\site-packages\\keras\\_tf_keras\\keras\\preprocessing\\text\\__init__.py)"
     ]
    }
   ],
   "source": [
    "import pandas as pd\n",
    "from tensorflow.keras.preprocessing.text import One_hot"
   ]
  },
  {
   "cell_type": "code",
   "execution_count": 4,
   "id": "96f52c2d",
   "metadata": {},
   "outputs": [],
   "source": [
    "data=[\n",
    "    'The glass of milk',\n",
    "    'The glass of guice',\n",
    "    'the cup of tea',\n",
    "    'i am a good boy',\n",
    "    'i am a good developer',\n",
    "    'understand the meaning of words',\n",
    "    'yours videos are good'\n",
    "]\n"
   ]
  },
  {
   "cell_type": "code",
   "execution_count": 5,
   "id": "09e9bb25",
   "metadata": {},
   "outputs": [],
   "source": [
    "voc_siz=10000"
   ]
  },
  {
   "cell_type": "code",
   "execution_count": 6,
   "id": "44577415",
   "metadata": {},
   "outputs": [
    {
     "ename": "NameError",
     "evalue": "name 'one_hot' is not defined",
     "output_type": "error",
     "traceback": [
      "\u001b[1;31m---------------------------------------------------------------------------\u001b[0m",
      "\u001b[1;31mNameError\u001b[0m                                 Traceback (most recent call last)",
      "Cell \u001b[1;32mIn[6], line 1\u001b[0m\n\u001b[1;32m----> 1\u001b[0m one_hot_encoding\u001b[38;5;241m=\u001b[39m[one_hot(words,voc_siz)\u001b[38;5;28;01mfor\u001b[39;00m words \u001b[38;5;129;01min\u001b[39;00m data]\n\u001b[0;32m      2\u001b[0m one_hot_encoding\n",
      "Cell \u001b[1;32mIn[6], line 1\u001b[0m, in \u001b[0;36m<listcomp>\u001b[1;34m(.0)\u001b[0m\n\u001b[1;32m----> 1\u001b[0m one_hot_encoding\u001b[38;5;241m=\u001b[39m[\u001b[43mone_hot\u001b[49m(words,voc_siz)\u001b[38;5;28;01mfor\u001b[39;00m words \u001b[38;5;129;01min\u001b[39;00m data]\n\u001b[0;32m      2\u001b[0m one_hot_encoding\n",
      "\u001b[1;31mNameError\u001b[0m: name 'one_hot' is not defined"
     ]
    }
   ],
   "source": [
    "one_hot_encoding=[one_hot(words,voc_siz)for words in data]\n",
    "one_hot_encoding"
   ]
  },
  {
   "cell_type": "code",
   "execution_count": null,
   "id": "054958e2",
   "metadata": {},
   "outputs": [],
   "source": []
  }
 ],
 "metadata": {
  "kernelspec": {
   "display_name": "Python 3",
   "language": "python",
   "name": "python3"
  },
  "language_info": {
   "codemirror_mode": {
    "name": "ipython",
    "version": 3
   },
   "file_extension": ".py",
   "mimetype": "text/x-python",
   "name": "python",
   "nbconvert_exporter": "python",
   "pygments_lexer": "ipython3",
   "version": "3.10.0"
  }
 },
 "nbformat": 4,
 "nbformat_minor": 5
}
